{
 "cells": [
  {
   "cell_type": "code",
   "execution_count": 55,
   "id": "f326a2a6",
   "metadata": {},
   "outputs": [],
   "source": [
    "import os\n",
    "from PIL import Image\n",
    "import matplotlib.pyplot as plt"
   ]
  },
  {
   "cell_type": "code",
   "execution_count": 56,
   "id": "d97d4e4f",
   "metadata": {},
   "outputs": [],
   "source": [
    "data_folder = 'dataset_lists/mnist_rotation_lists/'"
   ]
  },
  {
   "cell_type": "code",
   "execution_count": 57,
   "id": "44011fdf",
   "metadata": {},
   "outputs": [],
   "source": [
    "for file in os.listdir(data_folder):\n",
    "    with open(\"%s/%s\"%(data_folder, file),'r') as F:\n",
    "        contents = F.readlines()\n",
    "    break"
   ]
  },
  {
   "cell_type": "code",
   "execution_count": 58,
   "id": "d5873d40",
   "metadata": {},
   "outputs": [],
   "source": [
    "file_stub = 'list_mnist_rotation_two_by_nine.txt'"
   ]
  },
  {
   "cell_type": "code",
   "execution_count": 59,
   "id": "1ddbdf50",
   "metadata": {},
   "outputs": [],
   "source": [
    "all_parsed = {}\n",
    "all_non_parsed = {}\n",
    "for phase in ['train','val']:\n",
    "    non_parsed = []\n",
    "    file = \"%s_%s\"%(phase, file_stub)\n",
    "    with open(\"%s/%s\"%(data_folder, file),'r') as F:\n",
    "        contents = F.readlines()\n",
    "    parsed_data = {}\n",
    "    for line in contents:\n",
    "        line = line.rstrip()\n",
    "        non_parsed.append(line)\n",
    "        im_name = line.split('/')[-1]\n",
    "        digit, rotation, _ = im_name.split('_')\n",
    "        if digit not in parsed_data.keys():\n",
    "            parsed_data[digit] = {}\n",
    "        if rotation not in parsed_data[digit].keys():\n",
    "            parsed_data[digit][rotation] = []\n",
    "        parsed_data[digit][rotation].append(line)\n",
    "    all_parsed[phase] = parsed_data\n",
    "    all_non_parsed[phase] = non_parsed"
   ]
  },
  {
   "cell_type": "markdown",
   "id": "d4b47caa",
   "metadata": {},
   "source": [
    "# Randomized Splits"
   ]
  },
  {
   "cell_type": "code",
   "execution_count": 60,
   "id": "64cbda63",
   "metadata": {},
   "outputs": [],
   "source": [
    "import numpy as np\n",
    "import random"
   ]
  },
  {
   "cell_type": "code",
   "execution_count": 61,
   "id": "37ce2a49",
   "metadata": {},
   "outputs": [
    {
     "data": {
      "text/plain": [
       "'val_list_mnist_rotation_two_by_nine.txt'"
      ]
     },
     "execution_count": 61,
     "metadata": {},
     "output_type": "execute_result"
    }
   ],
   "source": [
    "file"
   ]
  },
  {
   "cell_type": "code",
   "execution_count": 62,
   "id": "e3a4f3e5",
   "metadata": {},
   "outputs": [],
   "source": [
    "for phase in ['train','val']:\n",
    "    all_lines = all_non_parsed[phase]\n",
    "    random.shuffle(all_lines)\n",
    "    splits = np.array_split(all_lines, 4)\n",
    "    for i in range(4):\n",
    "        split_lines = splits[i]\n",
    "        write_file_name = file.replace('val',phase).replace('.txt','_random_split_%s.txt'%i)\n",
    "        with open(\"%s/%s\"%(data_folder, write_file_name),'w') as F:\n",
    "            for split_line in split_lines:\n",
    "                print(split_line, file=F)"
   ]
  },
  {
   "cell_type": "markdown",
   "id": "0c370ea0",
   "metadata": {},
   "source": [
    "# Non Randomized Splits"
   ]
  },
  {
   "cell_type": "code",
   "execution_count": 63,
   "id": "69975741",
   "metadata": {},
   "outputs": [],
   "source": [
    "all_combinations = []\n",
    "for digit in all_parsed['val'].keys():\n",
    "    for rotation in all_parsed['val'][digit].keys():\n",
    "        combination = '%s_%s'%(digit, rotation)\n",
    "        all_combinations.append(combination)"
   ]
  },
  {
   "cell_type": "code",
   "execution_count": 64,
   "id": "af1f3cd1",
   "metadata": {},
   "outputs": [],
   "source": [
    "chunks = np.array_split(all_combinations,4)"
   ]
  },
  {
   "cell_type": "code",
   "execution_count": 65,
   "id": "274c1b68",
   "metadata": {},
   "outputs": [
    {
     "data": {
      "text/plain": [
       "[array(['7_3', '7_2', '1_6', '1_7', '4_9'], dtype='<U3'),\n",
       " array(['4_0', '5_1', '5_0', '8_4', '8_3'], dtype='<U3'),\n",
       " array(['0_5', '0_6', '9_5', '9_4', '2_7'], dtype='<U3'),\n",
       " array(['2_8', '3_9', '3_8', '6_1', '6_2'], dtype='<U3')]"
      ]
     },
     "execution_count": 65,
     "metadata": {},
     "output_type": "execute_result"
    }
   ],
   "source": [
    "chunks"
   ]
  },
  {
   "cell_type": "code",
   "execution_count": 66,
   "id": "9e99a379",
   "metadata": {},
   "outputs": [],
   "source": [
    "combination_to_chunk = {}\n",
    "for i in range(len(chunks)):\n",
    "    for combo in chunks[i]:\n",
    "        combination_to_chunk[combo] = i"
   ]
  },
  {
   "cell_type": "code",
   "execution_count": 67,
   "id": "8da078a4",
   "metadata": {},
   "outputs": [
    {
     "data": {
      "text/plain": [
       "'val_list_mnist_rotation_two_by_nine.txt'"
      ]
     },
     "execution_count": 67,
     "metadata": {},
     "output_type": "execute_result"
    }
   ],
   "source": [
    "file"
   ]
  },
  {
   "cell_type": "code",
   "execution_count": 68,
   "id": "fff12e98",
   "metadata": {},
   "outputs": [],
   "source": [
    "for phase in ['train','val']:\n",
    "    for combination in combination_to_chunk.keys():\n",
    "        digit,rotation = combination.split('_')\n",
    "        combination_chunk = combination_to_chunk[combination]\n",
    "        parsed_lines = all_parsed[phase][digit][rotation]\n",
    "        write_file_name = file.replace('val',phase).replace('.txt','_non_random_split_%s.txt'%combination_chunk)\n",
    "        with open(\"%s/%s\"%(data_folder, write_file_name),'a') as F:\n",
    "            for split_line in parsed_lines:\n",
    "                print(split_line, file=F)"
   ]
  }
 ],
 "metadata": {
  "kernelspec": {
   "display_name": "turing",
   "language": "python",
   "name": "turing"
  },
  "language_info": {
   "codemirror_mode": {
    "name": "ipython",
    "version": 3
   },
   "file_extension": ".py",
   "mimetype": "text/x-python",
   "name": "python",
   "nbconvert_exporter": "python",
   "pygments_lexer": "ipython3",
   "version": "3.8.15"
  }
 },
 "nbformat": 4,
 "nbformat_minor": 5
}
