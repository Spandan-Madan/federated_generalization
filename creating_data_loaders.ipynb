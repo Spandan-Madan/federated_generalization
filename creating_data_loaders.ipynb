{
 "cells": [
  {
   "cell_type": "code",
   "execution_count": 1,
   "id": "1e50b475-41d2-4144-9ae6-8aa2c841e177",
   "metadata": {},
   "outputs": [],
   "source": [
    "import os\n",
    "def create_folder(path):\n",
    "    if not os.path.isdir(path):\n",
    "        os.mkdir(path)"
   ]
  },
  {
   "cell_type": "code",
   "execution_count": 6,
   "id": "88722e8a-5800-4e2b-af46-532a781f3c7f",
   "metadata": {},
   "outputs": [],
   "source": [
    "CODE_ROOT = '.'"
   ]
  },
  {
   "cell_type": "code",
   "execution_count": 10,
   "id": "fb0831af-05d2-46bf-b6f5-6cefd47588bd",
   "metadata": {},
   "outputs": [],
   "source": [
    "from __future__ import print_function, division\n",
    "import torch\n",
    "import torch.nn as nn\n",
    "import torch.optim as optim\n",
    "from torch.autograd import Variable\n",
    "import numpy as np\n",
    "import torchvision\n",
    "from torchvision import datasets, models, transforms\n",
    "import matplotlib.pyplot as plt\n",
    "import time\n",
    "import copy\n",
    "import os\n",
    "from PIL import ImageFile\n",
    "import random\n",
    "ImageFile.LOAD_TRUNCATED_IMAGES = True\n",
    "import argparse\n",
    "import pickle\n",
    "import sys\n",
    "sys.path.append('%s/res/'%CODE_ROOT)\n",
    "from models.models import get_model\n",
    "from loader.loader import get_loader"
   ]
  },
  {
   "cell_type": "code",
   "execution_count": 11,
   "id": "86b97a11-dd30-4c5b-9709-130ecfc90e7c",
   "metadata": {},
   "outputs": [
    {
     "data": {
      "text/plain": [
       "<Figure size 432x288 with 0 Axes>"
      ]
     },
     "metadata": {},
     "output_type": "display_data"
    }
   ],
   "source": [
    "from tqdm.notebook import tqdm\n",
    "from IPython.display import clear_output\n",
    "import matplotlib.pyplot as plt\n",
    "import seaborn as sns\n",
    "sns.set_context(\"poster\")\n",
    "sns.set_palette(\"Set1\", 8, .75)\n",
    "sns.despine()"
   ]
  },
  {
   "cell_type": "code",
   "execution_count": 12,
   "id": "598dc167-5d48-48a2-b5ea-6c2dd3a39ccf",
   "metadata": {},
   "outputs": [],
   "source": [
    "DATASET_NAMES = ['mnist_rotation_one_by_nine', 'mnist_rotation_three_by_nine',\n",
    "                 'mnist_rotation_six_by_nine', 'mnist_rotation_nine_by_nine']\n",
    "NUM_EPOCHS = 10\n",
    "BATCH_SIZE = 200\n",
    "ARCH = 'LATE_BRANCHING_COMBINED'\n",
    "\n",
    "image_transform=transforms.Compose([\n",
    "        transforms.ToTensor(),\n",
    "        transforms.Normalize((0.1307,), (0.3081,))\n",
    "    ])\n",
    "\n",
    "\n",
    "GPU = 1"
   ]
  },
  {
   "cell_type": "code",
   "execution_count": 13,
   "id": "17b2b178-553c-41b7-90f4-96cb72020ba9",
   "metadata": {},
   "outputs": [],
   "source": [
    "NUM_CLASSES = (10,10,10,10)\n",
    "loader_new = get_loader('multi_attribute_loader_file_list_mnist_rotation')\n",
    "\n",
    "file_list_root = '%s/dataset_lists/mnist_rotation_lists/'%CODE_ROOT\n",
    "att_path = '%s/dataset_lists/combined_attributes.p'%CODE_ROOT"
   ]
  },
  {
   "cell_type": "code",
   "execution_count": 14,
   "id": "9d550a4b-242e-4754-894b-3bda43201df5",
   "metadata": {},
   "outputs": [],
   "source": [
    "shuffles = {'train':True,'val':True,'test':False}\n",
    "\n",
    "data_dir = '%s/data/'%CODE_ROOT\n",
    "\n",
    "all_dsets = {}\n",
    "all_dset_loaders = {}\n",
    "all_dset_sizes = {}\n",
    "\n",
    "for DATASET_NAME in DATASET_NAMES:\n",
    "    file_lists = {}\n",
    "    dsets = {}\n",
    "    dset_loaders = {}\n",
    "    dset_sizes = {}\n",
    "    for phase in ['train','val','test']:\n",
    "        file_lists[phase] = \"%s/%s_list_%s.txt\"%(file_list_root,phase,DATASET_NAME)\n",
    "        dsets[phase] = loader_new(file_lists[phase],att_path, image_transform, data_dir)\n",
    "        dset_loaders[phase] = torch.utils.data.DataLoader(dsets[phase], batch_size=BATCH_SIZE, shuffle = shuffles[phase], num_workers=2,drop_last=True)\n",
    "        dset_sizes[phase] = len(dsets[phase])\n",
    "    all_dsets[DATASET_NAME] = dsets\n",
    "    all_dset_loaders[DATASET_NAME] = dset_loaders\n",
    "    all_dset_sizes[DATASET_NAME] = dset_sizes"
   ]
  }
 ],
 "metadata": {
  "kernelspec": {
   "display_name": "domain_adaptation",
   "language": "python",
   "name": "domain_adaptation"
  },
  "language_info": {
   "codemirror_mode": {
    "name": "ipython",
    "version": 3
   },
   "file_extension": ".py",
   "mimetype": "text/x-python",
   "name": "python",
   "nbconvert_exporter": "python",
   "pygments_lexer": "ipython3",
   "version": "3.8.11"
  }
 },
 "nbformat": 4,
 "nbformat_minor": 5
}
